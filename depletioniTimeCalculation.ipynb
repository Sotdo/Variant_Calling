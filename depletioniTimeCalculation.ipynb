{
  "nbformat": 4,
  "nbformat_minor": 0,
  "metadata": {
    "orig_nbformat": 4,
    "colab": {
      "name": "depletioniTimeCalculation.ipynb",
      "provenance": [],
      "include_colab_link": true
    },
    "language_info": {
      "name": "python"
    },
    "kernelspec": {
      "name": "python3",
      "display_name": "Python 3"
    }
  },
  "cells": [
    {
      "cell_type": "markdown",
      "metadata": {
        "id": "view-in-github",
        "colab_type": "text"
      },
      "source": [
        "<a href=\"https://colab.research.google.com/github/Sotdo/Variant_Calling/blob/master/depletioniTimeCalculation.ipynb\" target=\"_parent\"><img src=\"https://colab.research.google.com/assets/colab-badge.svg\" alt=\"Open In Colab\"/></a>"
      ]
    },
    {
      "cell_type": "code",
      "metadata": {
        "id": "UC8PPLTulh8u"
      },
      "source": [
        "import re\n",
        "import glob\n",
        "import sys\n",
        "from pathlib import Path\n",
        "\n",
        "import pandas as pd\n",
        "import numpy as np\n",
        "\n",
        "import matplotlib.pyplot as plt\n",
        "import seaborn as sns"
      ],
      "execution_count": 1,
      "outputs": []
    },
    {
      "cell_type": "code",
      "metadata": {
        "colab": {
          "base_uri": "https://localhost:8080/"
        },
        "id": "wNAsQRJllh8x",
        "outputId": "4ffb504e-b6c0-48c3-f03c-4d2eb1884d07"
      },
      "source": [
        "print(\"\"\"\n",
        "***************************************************\n",
        "Script Descriptioin\n",
        "===================================================\n",
        "Calculate the depletion time according to the following paper:\n",
        "\n",
        "https://www.pnas.org/content/117/30/18010.full\n",
        "Ranking essential bacterial processes by speed of mutant deat\n",
        "PNAS July 28, 2020 117 (30) 18010-18017; first published July 14, 2020\n",
        "===================================================\n",
        "\"\"\")\n"
      ],
      "execution_count": 2,
      "outputs": [
        {
          "output_type": "stream",
          "text": [
            "\n",
            "***************************************************\n",
            "Script Descriptioin\n",
            "===================================================\n",
            "Calculate the depletion time according to the following paper:\n",
            "\n",
            "https://www.pnas.org/content/117/30/18010.full\n",
            "Ranking essential bacterial processes by speed of mutant deat\n",
            "PNAS July 28, 2020 117 (30) 18010-18017; first published July 14, 2020\n",
            "===================================================\n",
            "\n"
          ],
          "name": "stdout"
        }
      ]
    },
    {
      "cell_type": "markdown",
      "metadata": {
        "id": "xtHlme4ylh8x"
      },
      "source": [
        " # 1. Method of depletion time calculation in the literature\n",
        " **source code**\n",
        " ```R\n",
        " locus_depl_time <- function(times, log_reads, thresh = depl_thresh) {\n",
        "   # get the number of the last lrpk value above the threshold\n",
        "   aboves <- which(log_reads >= thresh)\n",
        "   last_above <- last(aboves)\n",
        "   # return NaN if it's the last time point\n",
        "   if (last_above == length(log_reads)) { return( NaN ) }\n",
        "   # calculate the depletion time\n",
        "   dt <- times[last_above] + ( times[last_above + 1] - times[last_above] ) *\n",
        "     ( thresh - log_reads[last_above] ) / ( log_reads[last_above + 1] - log_reads[last_above] )\n",
        "   return(dt) }\n",
        " ```\n",
        " 假设这里有四个时间点 [t0,t1,t2,t3] 和对应的 reads 数目的 Fold change [f0,f1,f2,f3],其中 f0 应该为 0。\n",
        " 然后判断 -1 落在 [f0,f1,f2,f3] 哪个区间中，如果 [f0,f1,f2,f3] 是单调递减的，那么 -1 只会落在一个区间里，比如落在\n",
        " [f1,f2] 这个区间，那么用 (t1,f1) 和 (t2,f2) 这两个点做线性插值，即线性拟合后计算 Fold change 为 -1 的时候的时间\n",
        " 即为 depletion time。\n",
        " 如果 [f0,f1,f2,f3] 是波动变化的，-1 可能落在多个区间，这种情况作者选择时间点最后的 -1 落在的区间做线性插值来计算\n",
        " depletion time。根据观察，这样的情况在该文献中出现的情况很少，约 ~500 个里面出现 ～5 左右。\n",
        "\n",
        " # 2. Use the same method to calculate the depletion time in our data\n",
        " 我们数据中的时间点: [Spore, YES1, YES2, YES3, YES4], 为了方便计算时间点的值分别计为 [0,1,2,3,4]\n",
        " 根据 Normalized read count 计算 log2(Fold change) 然后计算 depletion time。\n",
        " # 3. Import the 1328_400G data (data from SF)"
      ]
    },
    {
      "cell_type": "code",
      "metadata": {
        "id": "oofGOUwHlh8y"
      },
      "source": [
        "inputFile = Path(\"/content/20210719_1328_400G_sites_MA_normalized.csv\")\n",
        "sites_400G =  pd.read_csv(inputFile,sep=\"\\t\",header=0)\n",
        "\n",
        "# drop the arg6 site\n",
        "# sites_400G.sort_values([\"NSK-1328-1328_36h_spore\"],ascending=False,inplace=True)\n",
        "# sites_400G_noarg6 = sites_400G.iloc[1:,:]\n",
        "\n",
        "outputFolder = Path(\"depletion_time_calculation\")\n",
        "outputFolder.mkdir(exist_ok=True)\n"
      ],
      "execution_count": 4,
      "outputs": []
    },
    {
      "cell_type": "markdown",
      "metadata": {
        "id": "3ptS8CMblh8y"
      },
      "source": [
        " # 4. Calculate the fold change.\n",
        " log2(Fold change) = log2(YESX+1) - log2(Spore+1)"
      ]
    },
    {
      "cell_type": "code",
      "metadata": {
        "id": "xGVmxE99lh8z"
      },
      "source": [
        "timePoints = [\n",
        "    'NSK-1328-1328_36h_spore',\n",
        "    'NSK-1328-1328_36h_YES1',\n",
        "    'NSK-1328-1328_36h_YES2',\n",
        "    'NSK-1328-1328_36h_YES3',\n",
        "    'NSK-1328-1328_36h_YES4'\n",
        "]\n",
        "for t in timePoints:\n",
        "    sites_400G[\"log2FC_{}\".format(t)] = np.log2(sites_400G[t]+1) - np.log2(sites_400G[\"NSK-1328-1328_36h_spore\"]+1)"
      ],
      "execution_count": 5,
      "outputs": []
    },
    {
      "cell_type": "markdown",
      "metadata": {
        "id": "ve2yFgU1lh8z"
      },
      "source": [
        " # 5. Calculate the depletion time\n",
        " 我们的数据比较复杂，Fold change 可能有 [0,-0.7,-1.3,-1.1,-0.9] 这种情况，那应该用哪个 -1 所在的区间来计算 depletion time 呢？\n",
        " 下面计算用的区间是后一个 -1 所在的递减区间来计算的。"
      ]
    },
    {
      "cell_type": "code",
      "metadata": {
        "id": "DBMYHn-clh8z"
      },
      "source": [
        "def cal_depletion_time(FC):\n",
        "    # FC = row[\"log2FC_NSK-1328-1328_36h_spore\":\"log2FC_NSK-1328-1328_36h_YES4\"]\n",
        "    try:\n",
        "        lt_Positions = np.where(FC<-1)[0]\n",
        "        depletion_times = []\n",
        "        for i in lt_Positions:\n",
        "            gt_Position = i - 1\n",
        "            if FC[gt_Position] > -1 and FC[i] < -1:\n",
        "                depletion_times.append((-1-FC[gt_Position])/(FC[i] - FC[gt_Position])+gt_Position)\n",
        "        # depletion_time = (-1-FC[gt_Position])/(FC[i] - FC[gt_Position])+gt_Position\n",
        "        return(depletion_times[len(depletion_times)-1])\n",
        "    except (ValueError, IndexError):\n",
        "        return(np.nan)\n",
        "\n",
        "sites_400G[\"Depletion_Time\"] = sites_400G.apply(lambda row: cal_depletion_time(row[\"log2FC_NSK-1328-1328_36h_spore\":\"log2FC_NSK-1328-1328_36h_YES4\"]),axis=1)\n",
        "\n",
        "file_withDepletionTime = outputFolder / Path(\"20210719_1328_400G_sites_MA_normalized_withDepletionTime.xlsx\")\n",
        "sites_400G.to_excel(file_withDepletionTime)"
      ],
      "execution_count": 6,
      "outputs": []
    },
    {
      "cell_type": "markdown",
      "metadata": {
        "id": "zglgoSMtlh80"
      },
      "source": [
        " # 6. Sites with YES4.M > 2"
      ]
    },
    {
      "cell_type": "code",
      "metadata": {
        "id": "18ZY4Ynalh80"
      },
      "source": [
        "YES4M_cutoff_2 = sites_400G[\"NSK-1328-1328_36h_YES4.M\"] >= 2\n",
        "\n",
        "sites_YES4M_cutoff_2 = outputFolder / Path(\"20210719_1328_400G_sites_MA_normalized_withDepletionTime_YES4Mgt2.xlsx\")\n",
        "sites_400G[YES4M_cutoff_2].to_excel(sites_YES4M_cutoff_2)\n"
      ],
      "execution_count": null,
      "outputs": []
    },
    {
      "cell_type": "markdown",
      "metadata": {
        "id": "0XL4Cdbklh80"
      },
      "source": [
        " # 7. Overview of sites with YES4.M > 2"
      ]
    },
    {
      "cell_type": "code",
      "metadata": {
        "id": "SP9NJXx6lh81"
      },
      "source": [
        "sns.set_theme(style=\"darkgrid\")\n",
        "fig1,ax1 = plt.subplots(1,4,figsize=(24,24),sharey=True)\n",
        "for i in range(4):\n",
        "    # sns.boxplot(data=sites_400G_noarg6,x=\"Type_Interval\",y=\"NSK-1328-1328_36h_YES{}.M\".format(i+1),ax=ax1[i])\n",
        "    sns.violinplot(data=sites_400G[YES4M_cutoff_2],x=\"Type_Interval\",y=\"NSK-1328-1328_36h_YES{}.M\".format(i+1),ax=ax1[i])\n",
        "    ax1[i].set_xticklabels(ax1[i].get_xticklabels(),rotation=75,fontsize=15)\n",
        "    ax1[i].set_xlabel(ax1[i].get_xlabel(),fontsize=18)\n",
        "    # ax1[i].set_yticklabels(ax1[i].get_yticklabels(),fontsize=20)\n",
        "    ax1[i].set_ylim(-7,9)\n",
        "    ax1[i].set_ylabel(ax1[i].get_ylabel(),fontsize=18)\n",
        "    ax1[i].set_title(\"YES{} M\".format(i+1),fontsize=25)\n",
        "# plt.savefig(outputFolder/Path(\"Violinplot_M_Type_interval.png\"),bbox_inche=\"tight\")"
      ],
      "execution_count": null,
      "outputs": []
    },
    {
      "cell_type": "code",
      "metadata": {
        "id": "9D2rQPE2lh81"
      },
      "source": [
        "sns.boxplot(data=sites_400G[YES4M_cutoff_2],x=\"Type_Interval\",y=\"Depletion_Time\")"
      ],
      "execution_count": null,
      "outputs": []
    },
    {
      "cell_type": "code",
      "metadata": {
        "id": "NNVhSZlelh81"
      },
      "source": [
        ""
      ],
      "execution_count": null,
      "outputs": []
    }
  ]
}