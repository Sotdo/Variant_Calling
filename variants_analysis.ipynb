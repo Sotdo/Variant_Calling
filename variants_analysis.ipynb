{
 "cells": [
  {
   "cell_type": "markdown",
   "metadata": {},
   "source": [
    "# Variants Filtering, Analysis\n",
    "\n",
    "This notebook will introduce how variants are filtered and analyzed."
   ]
  },
  {
   "cell_type": "markdown",
   "metadata": {},
   "source": [
    "## Introduction"
   ]
  },
  {
   "cell_type": "markdown",
   "metadata": {},
   "source": [
    "## Preparation"
   ]
  },
  {
   "cell_type": "markdown",
   "metadata": {},
   "source": [
    "### Import Python Modules"
   ]
  },
  {
   "cell_type": "code",
   "execution_count": 1,
   "metadata": {},
   "outputs": [],
   "source": [
    "import re, glob, sys, os, subprocess, getopt, time\n",
    "import matplotlib.pyplot as plt"
   ]
  },
  {
   "cell_type": "markdown",
   "metadata": {},
   "source": [
    "### Functions"
   ]
  },
  {
   "cell_type": "code",
   "execution_count": 2,
   "metadata": {},
   "outputs": [],
   "source": [
    "def mkdir(*folders):\n",
    "    for folder in folders:\n",
    "        subprocessRun('Make folder',folder ,'mkdir -p {0}'.format(folder))"
   ]
  },
  {
   "cell_type": "code",
   "execution_count": 3,
   "metadata": {},
   "outputs": [],
   "source": [
    "def cp(file, folder):\n",
    "    subprocessRun('Copy files',file +\" > \"+ folder,'cp {0} {1}'.format(file,folder))"
   ]
  },
  {
   "cell_type": "code",
   "execution_count": 4,
   "metadata": {},
   "outputs": [],
   "source": [
    "def filePath2ID(file):\n",
    "    searchObj = re.search('.*\\/([^\\.\\n\\t\\r\\f]+)\\..*',file)\n",
    "    ID = searchObj.group(1)\n",
    "    return(ID)"
   ]
  },
  {
   "cell_type": "code",
   "execution_count": 5,
   "metadata": {},
   "outputs": [],
   "source": [
    "def subprocessRun(title,name,cmd):\n",
    "\n",
    "    title1 = title + \" start\"\n",
    "    print(time.asctime(time.localtime(time.time()))+\" \"+title1.center(30,' ').center(70,'*'))\n",
    "    print(time.asctime(time.localtime(time.time()))+\" \"+name.center(30,' ').center(70,'*'))\n",
    "    sys.stdout.flush()\n",
    "\n",
    "    p = subprocess.Popen([cmd],shell=True,stdout=subprocess.PIPE,stderr=subprocess.PIPE)\n",
    "    p.wait()\n",
    "\n",
    "    print(\"stdout\".center(20,' ').center(40,'='))\n",
    "    sys.stdout.flush()\n",
    "    for i in p.stdout.readlines():\n",
    "        print(str(i).strip('\\n'))\n",
    "        sys.stdout.flush()\n",
    "    print(\"stderr\".center(20,' ').center(40,'='))\n",
    "    sys.stdout.flush()\n",
    "    for i in p.stderr.readlines():\n",
    "        print(str(i).strip('\\n'))\n",
    "        sys.stdout.flush()\n",
    "\n",
    "    title2 = title + \" end\"\n",
    "    print(time.asctime(time.localtime(time.time()))+\" \"+title2.center(30,' ').center(70,'*'))\n",
    "    print(time.asctime(time.localtime(time.time()))+\" \"+name.center(30,' ').center(70,'*'))\n",
    "    print(\"\\n\")\n",
    "    sys.stdout.flush()"
   ]
  },
  {
   "cell_type": "code",
   "execution_count": 6,
   "metadata": {},
   "outputs": [],
   "source": [
    "def specific(variants):\n",
    "    IDs = list(variants.keys())\n",
    "    variants_samples = {}\n",
    "    for i in IDs:\n",
    "        for j in variants[i]:\n",
    "            if j in variants_samples.keys():\n",
    "                variants_samples[j].append(i)\n",
    "            else:\n",
    "                variants_samples[j] = []\n",
    "                variants_samples[j].append(i)\n",
    "\n",
    "    specificVariants = {}\n",
    "    allVariants = list(variants_samples.keys())\n",
    "    for i in allVariants:\n",
    "        if len(variants_samples[i]) == 1:\n",
    "            ID = variants_samples[i][0]\n",
    "            if ID in specificVariants.keys():\n",
    "                specificVariants[ID].append(i)\n",
    "            else:\n",
    "                specificVariants[ID] = []\n",
    "                specificVariants[ID].append(i)\n",
    "    return(specificVariants)\n",
    "def double(variants):\n",
    "    IDs = list(variants.keys())\n",
    "    variants_samples = {}\n",
    "    for i in IDs:\n",
    "        for j in variants[i]:\n",
    "            if j in variants_samples.keys():\n",
    "                variants_samples[j].append(i)\n",
    "            else:\n",
    "                variants_samples[j] = []\n",
    "                variants_samples[j].append(i)\n",
    "\n",
    "    specificVariants = {}\n",
    "    n = 2\n",
    "    allVariants = list(variants_samples.keys())\n",
    "    for i in allVariants:\n",
    "        if len(variants_samples[i]) == n:\n",
    "            for j in range(n):\n",
    "                \n",
    "                ID = variants_samples[i][n]\n",
    "                if ID in specificVariants.keys():\n",
    "                    specificVariants[ID].append(i)\n",
    "                else:\n",
    "                    specificVariants[ID] = []\n",
    "                    specificVariants[ID].append(i)\n",
    "    return(specificVariants)"
   ]
  },
  {
   "cell_type": "code",
   "execution_count": 7,
   "metadata": {},
   "outputs": [],
   "source": [
    "class vcf:\n",
    "\n",
    "    file = ''\n",
    "    header = []\n",
    "    title = ''\n",
    "    sites = []\n",
    "    variants = []\n",
    "    annotations = {}\n",
    "    ID = ''\n",
    "\n",
    "    def __init__(self,filePath):\n",
    "\n",
    "        self.file = ''\n",
    "        self.header = []\n",
    "        self.title = ''\n",
    "        self.sites = []\n",
    "        self.variants = []\n",
    "        self.annotations = {}\n",
    "        self.ID = ''\n",
    "\n",
    "        self.file = filePath\n",
    "\n",
    "        inputs = open(self.file,'r')\n",
    "        lines = list(inputs.readlines())\n",
    "        inputs.close()\n",
    "\n",
    "        searchObj = re.search('.*\\/([^\\.\\n\\t\\r\\f]+)\\..*',self.file)\n",
    "        self.ID = searchObj.group(1)\n",
    "\n",
    "        for i in lines:\n",
    "\n",
    "            i = i.strip('\\n')\n",
    "            if i[0] == \"#\" and i[1] == \"#\":\n",
    "\n",
    "                self.header.append(i)\n",
    "\n",
    "            elif i[0] == \"#\":\n",
    "\n",
    "                self.title = i\n",
    "\n",
    "            else:\n",
    "\n",
    "                cells = re.split('\\t',i)\n",
    "\n",
    "                Chr = cells[0]\n",
    "                Posi = cells[1]\n",
    "                Ref = cells[3]\n",
    "                Alt = cells[4]\n",
    "                Qual = cells[5]\n",
    "                Type = ''\n",
    "\n",
    "                if len(Ref) == len(Alt) and len(Ref) == 1:\n",
    "                    Type = 'SNP'\n",
    "                elif len(Ref) > len(Alt):\n",
    "                    Type = \"Deletion\"\n",
    "                elif len(Ref) < len(Alt):\n",
    "                    Type = \"Insertion\"\n",
    "\n",
    "                site = Chr + \"\\t\" + Posi\n",
    "                self.sites.append(site)\n",
    "\n",
    "                variant = Chr + \"\\t\" + Posi + \"\\t\" + Ref + \"\\t\" + Alt\n",
    "                self.variants.append(variant)\n",
    "                self.annotations[variant] = {}\n",
    "                self.annotations[variant]['Quality'] = Qual\n",
    "                self.annotations[variant]['Type'] = Type\n",
    "\n",
    "                info = re.split(';',cells[7])\n",
    "\n",
    "                for j in info:\n",
    "\n",
    "                    KeyValue = re.search('(\\S+)=(\\S+)',j)\n",
    "                    if KeyValue != None:\n",
    "                        Key = KeyValue.group(1)\n",
    "                        Value = KeyValue.group(2)\n",
    "                        self.annotations[variant][Key] = Value\n",
    "\n",
    "                Formats = re.split(':',cells[8])\n",
    "                FormatsValue = re.split(':',cells[9])\n",
    "\n",
    "                for j in range(len(Formats)):\n",
    "                    \n",
    "                    Key = Formats[j]\n",
    "                    Value = FormatsValue[j]\n",
    "\n",
    "                    if Key == \"AD\":\n",
    "                        AD = re.split(',',Value)\n",
    "                        Value = (float(AD[0])+1)/(float(AD[1])+1)\n",
    "\n",
    "                    self.annotations[variant][Key] = Value"
   ]
  },
  {
   "cell_type": "markdown",
   "metadata": {},
   "source": [
    "### Project"
   ]
  },
  {
   "cell_type": "code",
   "execution_count": 8,
   "metadata": {},
   "outputs": [],
   "source": [
    "project = \"/data/yangyusheng/20190927_V6\"\n",
    "callers = ['Samtools','GATK','Deepvariant']"
   ]
  },
  {
   "cell_type": "markdown",
   "metadata": {},
   "source": [
    "## Procedure"
   ]
  },
  {
   "cell_type": "markdown",
   "metadata": {},
   "source": [
    "### SpecificVariants"
   ]
  },
  {
   "cell_type": "code",
   "execution_count": 9,
   "metadata": {},
   "outputs": [],
   "source": [
    "variants = {}\n",
    "specificVariants = {}\n",
    "for i in callers:\n",
    "    variants[i] = {}\n",
    "    specificVariants[i] = {}\n",
    "    samples = glob.glob(\"{0}/1_Files/4_Variants_{1}/*.Normalized.NoRefError.vcf\".format(project,i))\n",
    "    for j in samples:\n",
    "        ID = filePath2ID(j)\n",
    "        tmp = vcf(j)\n",
    "        variants[i][ID] = tmp.variants\n",
    "    specificVariants[i] = specific(variants[i])"
   ]
  },
  {
   "cell_type": "code",
   "execution_count": 10,
   "metadata": {},
   "outputs": [],
   "source": [
    "file = open(\"{0}/1_Files/4_Variants_GATK_GVCF/output_SB.vcf\".format(project))\n",
    "lines = list(file.readlines())\n",
    "file.close()\n",
    "\n",
    "refErrorTxt = open('{0}/0_Preparation/refError.txt'.format(project),'r')\n",
    "refErrorLines = list(refErrorTxt.readlines())\n",
    "refErrorTxt.close()\n",
    "refError = []\n",
    "for i in refErrorLines:\n",
    "    refError.append(i.strip('\\n'))"
   ]
  },
  {
   "cell_type": "code",
   "execution_count": 11,
   "metadata": {},
   "outputs": [],
   "source": [
    "variants['GATK_GVCF'] = {}"
   ]
  },
  {
   "cell_type": "code",
   "execution_count": 12,
   "metadata": {},
   "outputs": [],
   "source": [
    "header = []\n",
    "allVariants = {}\n",
    "for i in lines:\n",
    "    if i[0] == \"#\" and i[1] != \"#\":\n",
    "        header = re.split('\\t',i.strip('\\n'))\n",
    "    elif i[0] != \"#\" and i[1] != \"#\":\n",
    "        info = re.split('\\t',i.strip('\\n'))\n",
    "        tmpvariant = info[0]+\"\\t\"+info[1]+\"\\t\"+info[3]+\"\\t\"+info[4]\n",
    "        if ',' not in info[4] and tmpvariant not in refError:\n",
    "            Chr = info[0]\n",
    "            Posi = info[1]\n",
    "            Ref = info[3]\n",
    "            Alt = info[4]\n",
    "            Qual = info[5]\n",
    "            Info = info[7]\n",
    "            Formats = re.split(':',info[8])\n",
    "            Type = \"\"\n",
    "            if len(Ref) == len(Alt) and len(Ref) == 1:\n",
    "                Type = 'SNP'\n",
    "            elif len(Ref) > len(Alt):\n",
    "                Type = \"Deletion\"\n",
    "            elif len(Ref) < len(Alt):\n",
    "                Type = \"Insertion\"\n",
    "\n",
    "            site = info[0] + \"\\t\" + info[1] + \"\\t\" + info[3] + \"\\t\" + info[4]\n",
    "\n",
    "            for j in range(9,len(header)):\n",
    "                ID = header[j][1:]\n",
    "                FormatsValue = re.split(':',info[j])\n",
    "                if ID in allVariants.keys():\n",
    "                    if FormatsValue[0] == \"0/1\" or FormatsValue[0] == \"0|1\":\n",
    "                        allVariants[ID][site] = {}\n",
    "                        allVariants[ID][site]['Quality'] = Qual\n",
    "                        allVariants[ID][site]['Type'] = Type\n",
    "#                     if len(Formats) != len(FormatsValue):\n",
    "#                         print(i)\n",
    "#                         print(Formats)\n",
    "#                         print(FormatsValue)\n",
    "                        for k in range(len(Formats)):\n",
    "\n",
    "                            Key = Formats[k]\n",
    "                            try:\n",
    "                                Value = FormatsValue[k]\n",
    "                            except IndexError:\n",
    "                                Value = \"\"\n",
    "\n",
    "                            if Key == \"AD\":\n",
    "                                AD = re.split(',',Value)\n",
    "                                Value = float(AD[1])\n",
    "                            allVariants[ID][site][Key] = Value\n",
    "\n",
    "                        notes = re.split(';',Info)\n",
    "                        for n in notes:\n",
    "                            KeyValue = re.search('(\\S+)=(\\S+)',n)\n",
    "                            if KeyValue != None:\n",
    "                                Key = KeyValue.group(1)\n",
    "                                Value = KeyValue.group(2)\n",
    "                                allVariants[ID][site][Key] = Value\n",
    "                else:\n",
    "                    if FormatsValue[0] == \"0/1\" or FormatsValue[0] == \"0|1\":\n",
    "                        allVariants[ID] = {}\n",
    "                        allVariants[ID][site] = {}\n",
    "                        allVariants[ID][site]['Quality'] = Qual\n",
    "                        allVariants[ID][site]['Type'] = Type\n",
    "                        for k in range(len(Formats)):\n",
    "\n",
    "                            Key = Formats[k]\n",
    "                            try:\n",
    "                                Value = FormatsValue[k]\n",
    "                            except IndexError:\n",
    "                                Value = \"\"\n",
    "\n",
    "                            if Key == \"AD\":\n",
    "                                AD = re.split(',',Value)\n",
    "                                Value = float(AD[1])\n",
    "                            allVariants[ID][site][Key] = Value\n",
    "\n",
    "                        notes = re.split(';',Info)\n",
    "                        for n in notes:\n",
    "                            KeyValue = re.search('(\\S+)=(\\S+)',n)\n",
    "                            if KeyValue != None:\n",
    "                                Key = KeyValue.group(1)\n",
    "                                Value = KeyValue.group(2)\n",
    "                                allVariants[ID][site][Key] = Value\n",
    "                    \n",
    "        else:\n",
    "            pass\n",
    "#             print(\"Filtered: \" + i)\n",
    "\n",
    "\n",
    "\n"
   ]
  },
  {
   "cell_type": "code",
   "execution_count": 13,
   "metadata": {},
   "outputs": [],
   "source": [
    "IDs = [\n",
    " 'NSK-0912-175_N702-N505',\n",
    " 'NSK-0912-176_AK9183-N505',\n",
    " 'NSK-0912-177_N704-N505',\n",
    " 'NSK-0912-178_N705-N505',\n",
    " 'NSK-0912-180_N707-N505',\n",
    " 'NSK-0912-181_N708-N505',\n",
    " 'NSK-0912-182_N709-N505' ]\n",
    "callers = ['Samtools','GATK','GATK_GVCF','Deepvariant']\n",
    "specificVariants['GATK_GVCF'] = {}\n",
    "for i in IDs:\n",
    "    variants['GATK_GVCF'][i] = list(allVariants[i].keys())\n",
    "specificVariants['GATK_GVCF'] = specific(variants['GATK_GVCF'])"
   ]
  },
  {
   "cell_type": "markdown",
   "metadata": {},
   "source": [
    "### SNP and Indel"
   ]
  },
  {
   "cell_type": "code",
   "execution_count": 14,
   "metadata": {},
   "outputs": [],
   "source": [
    "SNP = {}\n",
    "Indel = {}\n",
    "# callers = ['GATK','GATK_GVCF']\n",
    "for i in callers:\n",
    "    SNP[i] = {}\n",
    "    Indel[i] = {}\n",
    "    for j in IDs:\n",
    "        for k in specificVariants[i][j]:\n",
    "            info = re.split('\\t',k)\n",
    "            if len(info[2]) == len(info[3]):\n",
    "                if j in SNP[i].keys():\n",
    "                    SNP[i][j].append(k)\n",
    "                else:\n",
    "                    SNP[i][j] = []\n",
    "                    SNP[i][j].append(k)\n",
    "            else:\n",
    "                if j in Indel[i].keys():\n",
    "                    Indel[i][j].append(k)\n",
    "                else:\n",
    "                    Indel[i][j] = []\n",
    "                    Indel[i][j].append(k)"
   ]
  },
  {
   "cell_type": "code",
   "execution_count": 15,
   "metadata": {
    "scrolled": false
   },
   "outputs": [
    {
     "name": "stdout",
     "output_type": "stream",
     "text": [
      "NSK-0912-175_N702-N505\n",
      "Samtools  \t1387\t1331\t56\n",
      "GATK      \t1467\t1357\t110\n",
      "GATK_GVCF \t1418\t1343\t75\n",
      "Deepvariant\t1320\t1256\t64\n",
      "\n",
      "\n",
      "NSK-0912-176_AK9183-N505\n",
      "Samtools  \t88\t52\t36\n",
      "GATK      \t128\t60\t68\n",
      "GATK_GVCF \t67\t45\t22\n",
      "Deepvariant\t43\t31\t12\n",
      "\n",
      "\n",
      "NSK-0912-177_N704-N505\n",
      "Samtools  \t1533\t1472\t61\n",
      "GATK      \t1619\t1517\t102\n",
      "GATK_GVCF \t1570\t1501\t69\n",
      "Deepvariant\t1514\t1448\t66\n",
      "\n",
      "\n",
      "NSK-0912-178_N705-N505\n",
      "Samtools  \t1895\t1822\t73\n",
      "GATK      \t2165\t2036\t129\n",
      "GATK_GVCF \t2106\t2027\t79\n",
      "Deepvariant\t1537\t1472\t65\n",
      "\n",
      "\n",
      "NSK-0912-180_N707-N505\n",
      "Samtools  \t853\t826\t27\n",
      "GATK      \t958\t888\t70\n",
      "GATK_GVCF \t905\t878\t27\n",
      "Deepvariant\t793\t770\t23\n",
      "\n",
      "\n",
      "NSK-0912-181_N708-N505\n",
      "Samtools  \t993\t946\t47\n",
      "GATK      \t1082\t977\t105\n",
      "GATK_GVCF \t1019\t972\t47\n",
      "Deepvariant\t908\t862\t46\n",
      "\n",
      "\n",
      "NSK-0912-182_N709-N505\n",
      "Samtools  \t1724\t1662\t62\n",
      "GATK      \t1870\t1725\t145\n",
      "GATK_GVCF \t1789\t1702\t87\n",
      "Deepvariant\t1522\t1456\t66\n",
      "\n",
      "\n"
     ]
    }
   ],
   "source": [
    "for j in IDs:\n",
    "    print(j,end=\"\\n\")\n",
    "    for i in callers:\n",
    "        print(i.ljust(10),end=\"\\t\")\n",
    "        total = len(SNP[i][j]) + len(Indel[i][j])\n",
    "        print(str(total),end=\"\\t\")\n",
    "        print(str(len(SNP[i][j])),end=\"\\t\")\n",
    "        print(str(len(Indel[i][j])),end=\"\\n\")\n",
    "    print(\"\\n\")"
   ]
  },
  {
   "cell_type": "markdown",
   "metadata": {},
   "source": [
    "### Indel Analysis"
   ]
  },
  {
   "cell_type": "code",
   "execution_count": 16,
   "metadata": {},
   "outputs": [],
   "source": [
    "indels = {}\n",
    "for i in IDs:\n",
    "    indels[i] = {}\n",
    "    for j in callers:\n",
    "        indels[i][j] = Indel[j][i] "
   ]
  },
  {
   "cell_type": "code",
   "execution_count": 17,
   "metadata": {},
   "outputs": [
    {
     "name": "stdout",
     "output_type": "stream",
     "text": [
      "NSK-0912-175_N702-N505\n",
      "Samtools                      13        56\n",
      "GATK                          30        110\n",
      "GATK_GVCF                     0         75\n",
      "Deepvariant                   9         64\n",
      "NSK-0912-176_AK9183-N505\n",
      "Samtools                      33        36\n",
      "GATK                          48        68\n",
      "GATK_GVCF                     4         22\n",
      "Deepvariant                   8         12\n",
      "NSK-0912-177_N704-N505\n",
      "Samtools                      12        61\n",
      "GATK                          29        102\n",
      "GATK_GVCF                     0         69\n",
      "Deepvariant                   9         66\n",
      "NSK-0912-178_N705-N505\n",
      "Samtools                      27        73\n",
      "GATK                          45        129\n",
      "GATK_GVCF                     1         79\n",
      "Deepvariant                   10        65\n",
      "NSK-0912-180_N707-N505\n",
      "Samtools                      12        27\n",
      "GATK                          40        70\n",
      "GATK_GVCF                     2         27\n",
      "Deepvariant                   3         23\n",
      "NSK-0912-181_N708-N505\n",
      "Samtools                      18        47\n",
      "GATK                          52        105\n",
      "GATK_GVCF                     0         47\n",
      "Deepvariant                   9         46\n",
      "NSK-0912-182_N709-N505\n",
      "Samtools                      13        62\n",
      "GATK                          52        145\n",
      "GATK_GVCF                     1         87\n",
      "Deepvariant                   6         66\n"
     ]
    }
   ],
   "source": [
    "specificIndels = {}\n",
    "for i in IDs:\n",
    "    specificIndels[i] = specific(indels[i])\n",
    "    print(i)\n",
    "    for j in callers:\n",
    "        if j in specificIndels[i].keys():\n",
    "            print(j.ljust(30)+str(len(specificIndels[i][j])).ljust(10)+str(len(indels[i][j])))\n",
    "        else:\n",
    "            print(j.ljust(30)+str(0).ljust(10)+str(len(indels[i][j])))"
   ]
  },
  {
   "cell_type": "code",
   "execution_count": 18,
   "metadata": {},
   "outputs": [
    {
     "name": "stdout",
     "output_type": "stream",
     "text": [
      "NSK-0912-175_N702-N505\n",
      "Samtools                      13        56\n",
      "GATK                          30        110\n",
      "GATK_GVCF                     0         75\n",
      "Deepvariant                   9         64\n",
      "NSK-0912-176_AK9183-N505\n",
      "Samtools                      33        36\n",
      "GATK                          48        68\n",
      "GATK_GVCF                     4         22\n",
      "Deepvariant                   8         12\n",
      "NSK-0912-177_N704-N505\n",
      "Samtools                      12        61\n",
      "GATK                          29        102\n",
      "GATK_GVCF                     0         69\n",
      "Deepvariant                   9         66\n",
      "NSK-0912-178_N705-N505\n",
      "Samtools                      27        73\n",
      "GATK                          45        129\n",
      "GATK_GVCF                     1         79\n",
      "Deepvariant                   10        65\n",
      "NSK-0912-180_N707-N505\n",
      "Samtools                      12        27\n",
      "GATK                          40        70\n",
      "GATK_GVCF                     2         27\n",
      "Deepvariant                   3         23\n",
      "NSK-0912-181_N708-N505\n",
      "Samtools                      18        47\n",
      "GATK                          52        105\n",
      "GATK_GVCF                     0         47\n",
      "Deepvariant                   9         46\n",
      "NSK-0912-182_N709-N505\n",
      "Samtools                      13        62\n",
      "GATK                          52        145\n",
      "GATK_GVCF                     1         87\n",
      "Deepvariant                   6         66\n"
     ]
    }
   ],
   "source": [
    "specificIndels = {}\n",
    "for i in IDs:\n",
    "    specificIndels[i] = specific(indels[i])\n",
    "    print(i)\n",
    "    for j in callers:\n",
    "        if j in specificIndels[i].keys():\n",
    "            print(j.ljust(30)+str(len(specificIndels[i][j])).ljust(10)+str(len(indels[i][j])))\n",
    "        else:\n",
    "            print(j.ljust(30)+str(0).ljust(10)+str(len(indels[i][j])))"
   ]
  },
  {
   "cell_type": "markdown",
   "metadata": {},
   "source": [
    "### IGV check"
   ]
  },
  {
   "cell_type": "code",
   "execution_count": 19,
   "metadata": {},
   "outputs": [],
   "source": [
    "folders = glob.glob(\"/data/yangyusheng/igvImages/IGV_results/*\")"
   ]
  },
  {
   "cell_type": "code",
   "execution_count": 20,
   "metadata": {},
   "outputs": [],
   "source": [
    "igvResults = {}\n",
    "for i in folders:\n",
    "    igvResults[i] = glob.glob(\"{0}/*.png\".format(i))"
   ]
  },
  {
   "cell_type": "code",
   "execution_count": 21,
   "metadata": {},
   "outputs": [],
   "source": [
    "newIGVresults = {}\n",
    "for i in folders:\n",
    "    newIGVresults[i] = []\n",
    "    for j in igvResults[i]:\n",
    "        j = re.sub('/.*/','',j)\n",
    "        newIGVresults[i].append(j)"
   ]
  },
  {
   "cell_type": "code",
   "execution_count": 22,
   "metadata": {},
   "outputs": [
    {
     "ename": "KeyError",
     "evalue": "'GATK_GVCF'",
     "output_type": "error",
     "traceback": [
      "\u001b[0;31m---------------------------------------------------------------------------\u001b[0m",
      "\u001b[0;31mKeyError\u001b[0m                                  Traceback (most recent call last)",
      "\u001b[0;32m<ipython-input-22-331b6671e6dc>\u001b[0m in \u001b[0;36m<module>\u001b[0;34m\u001b[0m\n\u001b[1;32m      2\u001b[0m \u001b[0;32mfor\u001b[0m \u001b[0mi\u001b[0m \u001b[0;32min\u001b[0m \u001b[0mIDs\u001b[0m\u001b[0;34m:\u001b[0m\u001b[0;34m\u001b[0m\u001b[0;34m\u001b[0m\u001b[0m\n\u001b[1;32m      3\u001b[0m     \u001b[0mcheck\u001b[0m\u001b[0;34m[\u001b[0m\u001b[0mi\u001b[0m\u001b[0;34m]\u001b[0m \u001b[0;34m=\u001b[0m \u001b[0;34m{\u001b[0m\u001b[0;34m}\u001b[0m\u001b[0;34m\u001b[0m\u001b[0;34m\u001b[0m\u001b[0m\n\u001b[0;32m----> 4\u001b[0;31m     \u001b[0;32mfor\u001b[0m \u001b[0mj\u001b[0m \u001b[0;32min\u001b[0m \u001b[0mspecificIndels\u001b[0m\u001b[0;34m[\u001b[0m\u001b[0mi\u001b[0m\u001b[0;34m]\u001b[0m\u001b[0;34m[\u001b[0m\u001b[0;34m'GATK_GVCF'\u001b[0m\u001b[0;34m]\u001b[0m\u001b[0;34m:\u001b[0m\u001b[0;34m\u001b[0m\u001b[0;34m\u001b[0m\u001b[0m\n\u001b[0m\u001b[1;32m      5\u001b[0m         \u001b[0minfo\u001b[0m \u001b[0;34m=\u001b[0m \u001b[0mre\u001b[0m\u001b[0;34m.\u001b[0m\u001b[0msplit\u001b[0m\u001b[0;34m(\u001b[0m\u001b[0;34m'\\t'\u001b[0m\u001b[0;34m,\u001b[0m\u001b[0mj\u001b[0m\u001b[0;34m)\u001b[0m\u001b[0;34m\u001b[0m\u001b[0;34m\u001b[0m\u001b[0m\n\u001b[1;32m      6\u001b[0m         \u001b[0mva\u001b[0m \u001b[0;34m=\u001b[0m \u001b[0mi\u001b[0m\u001b[0;34m+\u001b[0m\u001b[0;34m\"_\"\u001b[0m\u001b[0;34m+\u001b[0m\u001b[0minfo\u001b[0m\u001b[0;34m[\u001b[0m\u001b[0;36m0\u001b[0m\u001b[0;34m]\u001b[0m\u001b[0;34m+\u001b[0m\u001b[0;34m\"_\"\u001b[0m\u001b[0;34m+\u001b[0m\u001b[0minfo\u001b[0m\u001b[0;34m[\u001b[0m\u001b[0;36m1\u001b[0m\u001b[0;34m]\u001b[0m\u001b[0;34m+\u001b[0m\u001b[0;34m\"_\"\u001b[0m\u001b[0;34m+\u001b[0m\u001b[0minfo\u001b[0m\u001b[0;34m[\u001b[0m\u001b[0;36m2\u001b[0m\u001b[0;34m]\u001b[0m\u001b[0;34m+\u001b[0m\u001b[0;34m\"_\"\u001b[0m\u001b[0;34m+\u001b[0m\u001b[0minfo\u001b[0m\u001b[0;34m[\u001b[0m\u001b[0;36m3\u001b[0m\u001b[0;34m]\u001b[0m\u001b[0;34m+\u001b[0m\u001b[0;34m\".png\"\u001b[0m\u001b[0;34m\u001b[0m\u001b[0;34m\u001b[0m\u001b[0m\n",
      "\u001b[0;31mKeyError\u001b[0m: 'GATK_GVCF'"
     ]
    }
   ],
   "source": [
    "check = {}\n",
    "for i in IDs:\n",
    "    check[i] = {}\n",
    "    for j in specificIndels[i]['GATK_GVCF']:\n",
    "        info = re.split('\\t',j)\n",
    "        va = i+\"_\"+info[0]+\"_\"+info[1]+\"_\"+info[2]+\"_\"+info[3]+\".png\"\n",
    "        for k in folders:\n",
    "            if va in newIGVresults[k]:\n",
    "                if k in check[i].keys():\n",
    "                    check[i][k].append(va)\n",
    "                else:\n",
    "                    check[i][k] = []\n",
    "                    check[i][k].append(va)\n",
    "            "
   ]
  },
  {
   "cell_type": "code",
   "execution_count": null,
   "metadata": {},
   "outputs": [],
   "source": [
    "for i in IDs:\n",
    "    print(i)\n",
    "    for k in folders:\n",
    "        print(k.ljust(70),end=\"\")\n",
    "        if k in check[i].keys():\n",
    "            print(len(check[i][k]),end=\"\\n\")\n",
    "        else:\n",
    "            print(\"0\",end=\"\\n\")"
   ]
  },
  {
   "cell_type": "code",
   "execution_count": null,
   "metadata": {},
   "outputs": [],
   "source": [
    "check['NSK-0912-182_N709-N505']['/data/yangyusheng/igvImages/IGV_results/TruePositive']"
   ]
  },
  {
   "cell_type": "code",
   "execution_count": null,
   "metadata": {},
   "outputs": [],
   "source": [
    "specificIndels['NSK-0912-180_N707-N505']['GATK_GVCF']"
   ]
  },
  {
   "cell_type": "code",
   "execution_count": null,
   "metadata": {},
   "outputs": [],
   "source": []
  },
  {
   "cell_type": "code",
   "execution_count": null,
   "metadata": {},
   "outputs": [],
   "source": []
  }
 ],
 "metadata": {
  "kernelspec": {
   "display_name": "Python 3",
   "language": "python",
   "name": "python3"
  },
  "language_info": {
   "codemirror_mode": {
    "name": "ipython",
    "version": 3
   },
   "file_extension": ".py",
   "mimetype": "text/x-python",
   "name": "python",
   "nbconvert_exporter": "python",
   "pygments_lexer": "ipython3",
   "version": "3.7.6"
  },
  "toc": {
   "base_numbering": 1,
   "nav_menu": {},
   "number_sections": false,
   "sideBar": true,
   "skip_h1_title": false,
   "title_cell": "Table of Contents",
   "title_sidebar": "Contents",
   "toc_cell": false,
   "toc_position": {},
   "toc_section_display": true,
   "toc_window_display": true
  }
 },
 "nbformat": 4,
 "nbformat_minor": 4
}
